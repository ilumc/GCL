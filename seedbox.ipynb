{
  "nbformat": 4,
  "nbformat_minor": 0,
  "metadata": {
    "colab": {
      "name": "seedbox.ipynb",
      "provenance": [],
      "include_colab_link": true
    },
    "kernelspec": {
      "name": "python3",
      "display_name": "Python 3"
    },
    "language_info": {
      "name": "python"
    }
  },
  "cells": [
    {
      "cell_type": "markdown",
      "metadata": {
        "id": "view-in-github",
        "colab_type": "text"
      },
      "source": [
        "<a href=\"https://colab.research.google.com/github/ilumc/GLC/blob/main/seedbox.ipynb\" target=\"_parent\"><img src=\"https://colab.research.google.com/assets/colab-badge.svg\" alt=\"Open In Colab\"/></a>"
      ]
    },
    {
      "cell_type": "markdown",
      "metadata": {
        "id": "PDV8f_8mIc7G"
      },
      "source": [
        ""
      ]
    },
    {
      "cell_type": "code",
      "metadata": {
        "colab": {
          "base_uri": "https://localhost:8080/"
        },
        "id": "JgnRYeQ2ISW_",
        "outputId": "7d58b683-11fe-447f-ba2f-97764b08a7ee"
      },
      "source": [
        "from google.colab import drive\n",
        "drive.mount('/content/drive/')"
      ],
      "execution_count": null,
      "outputs": [
        {
          "output_type": "stream",
          "text": [
            "Mounted at /content/drive/\n"
          ],
          "name": "stdout"
        }
      ]
    },
    {
      "cell_type": "code",
      "metadata": {
        "colab": {
          "base_uri": "https://localhost:8080/"
        },
        "id": "2eKssXbVIXYZ",
        "outputId": "b4f6a597-d05b-4d05-b2a2-8ea125e3da75"
      },
      "source": [
        "%cd '/content/drive/My Drive'\n",
        "!mkdir 'Torrent'\n"
      ],
      "execution_count": null,
      "outputs": [
        {
          "output_type": "stream",
          "text": [
            "/content/drive/My Drive\n",
            "mkdir: cannot create directory ‘Torrent’: File exists\n"
          ],
          "name": "stdout"
        }
      ]
    },
    {
      "cell_type": "code",
      "metadata": {
        "id": "WbR0WTNCIZS9"
      },
      "source": [
        "!add-apt-repository ppa:qbittorrent-team/qbittorrent-stable -y\n",
        "!apt install qbittorrent-nox\n",
        "!qbittorrent-nox --webui-port=5155\n"
      ],
      "execution_count": null,
      "outputs": []
    },
    {
      "cell_type": "code",
      "metadata": {
        "colab": {
          "base_uri": "https://localhost:8080/"
        },
        "id": "QF7QG1ZzIeUc",
        "outputId": "fb017a42-3928-4b55-c147-2ad6e6c4dff6"
      },
      "source": [
        "TOKEN = \"\"\n",
        "\n",
        "def install_ngrok():\n",
        "    import os\n",
        "    from zipfile import ZipFile\n",
        "    from urllib.request import urlretrieve\n",
        "    \n",
        "    url = 'https://bin.equinox.io/c/4VmDzA7iaHb/ngrok-stable-linux-amd64.zip'\n",
        "    urlretrieve(url, 'ngrok-amd64.zip')\n",
        "    \n",
        "    with ZipFile('ngrok-amd64.zip', 'r') as zip_ref:\n",
        "        zip_ref.extractall('/usr/local/bin/')\n",
        "    os.chmod('/usr/local/bin/ngrok', 0o755)\n",
        "    os.unlink('ngrok-amd64.zip')\n",
        "\n",
        "install_ngrok()\n",
        "if TOKEN != \"\":\n",
        "    !ngrok authtoken $TOKEN "
      ],
      "execution_count": null,
      "outputs": [
        {
          "output_type": "stream",
          "text": [
            "Authtoken saved to configuration file: /root/.ngrok2/ngrok.yml\n"
          ],
          "name": "stdout"
        }
      ]
    },
    {
      "cell_type": "code",
      "metadata": {
        "id": "6pNm2ZPuIp_c"
      },
      "source": [
        "import threading\n",
        "import time\n",
        "import requests\n",
        "import json\n",
        "import subprocess\n",
        "\n",
        "def torrent(port):\n",
        "    command = subprocess.Popen(['qbittorrent-nox', f'--webui-port={port}'])\n",
        "\n",
        "def ngrok(port):\n",
        "    \n",
        "    ngrok_cmd = subprocess.Popen(['ngrok', 'http', str(port)])    \n",
        "    localhost_url = \"http://localhost:4040/api/tunnels\"\n",
        "\n",
        "    time.sleep(1)\n",
        "    tunnel_url = requests.get(localhost_url).text\n",
        "    json_data = json.loads(tunnel_url)\n",
        "\n",
        "    tunnel_url = json_data['tunnels'][0]['public_url']\n",
        "    tunnel_url = tunnel_url.replace(\"https\", \"http\")\n",
        "    print('Running at localhost: ' + str(port))\n",
        "    print(tunnel_url)\n",
        "\n",
        "if __name__ == '__main__':\n",
        "    \n",
        "    port = 5155\n",
        "\n",
        "    thread_torrent = threading.Thread(target = torrent, args=(int(port),))\n",
        "    thread_ngrok = threading.Thread(target = ngrok, args=(int(port),))\n",
        "\n",
        "    thread_torrent.start()\n",
        "    print('Torrent server started!')\n",
        "\n",
        "    time.sleep(5)\n",
        "    print('Establishing secure connection!')\n",
        "    \n",
        "    thread_ngrok.start()\n",
        "    print('Secure connection established...')\n",
        "    print('Username: admin')\n",
        "    print('password: adminadmin')\n",
        "    \n",
        "    thread_ngrok.join()\n",
        "    thread_torrent.join()\n"
      ],
      "execution_count": null,
      "outputs": []
    }
  ]
}