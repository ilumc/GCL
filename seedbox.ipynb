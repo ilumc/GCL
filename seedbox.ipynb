{
  "nbformat": 4,
  "nbformat_minor": 0,
  "metadata": {
    "colab": {
      "name": "seedbox.ipynb",
      "provenance": [],
      "include_colab_link": true
    },
    "kernelspec": {
      "name": "python3",
      "display_name": "Python 3"
    },
    "language_info": {
      "name": "python"
    }
  },
  "cells": [
    {
      "cell_type": "markdown",
      "metadata": {
        "id": "view-in-github",
        "colab_type": "text"
      },
      "source": [
        "<a href=\"https://colab.research.google.com/github/ilumc/GLC/blob/main/seedbox.ipynb\" target=\"_parent\"><img src=\"https://colab.research.google.com/assets/colab-badge.svg\" alt=\"Open In Colab\"/></a>"
      ]
    },
    {
      "cell_type": "markdown",
      "metadata": {
        "id": "PDV8f_8mIc7G"
      },
      "source": [
        ""
      ]
    },
    {
      "cell_type": "code",
      "metadata": {
        "colab": {
          "base_uri": "https://localhost:8080/"
        },
        "id": "JgnRYeQ2ISW_",
        "outputId": "7d58b683-11fe-447f-ba2f-97764b08a7ee"
      },
      "source": [
        "from google.colab import drive\n",
        "drive.mount('/content/drive/')"
      ],
      "execution_count": null,
      "outputs": [
        {
          "output_type": "stream",
          "text": [
            "Mounted at /content/drive/\n"
          ],
          "name": "stdout"
        }
      ]
    },
    {
      "cell_type": "code",
      "metadata": {
        "colab": {
          "base_uri": "https://localhost:8080/"
        },
        "id": "2eKssXbVIXYZ",
        "outputId": "b4f6a597-d05b-4d05-b2a2-8ea125e3da75"
      },
      "source": [
        "%cd '/content/drive/My Drive'\n",
        "!mkdir 'Torrent'\n"
      ],
      "execution_count": null,
      "outputs": [
        {
          "output_type": "stream",
          "text": [
            "/content/drive/My Drive\n",
            "mkdir: cannot create directory ‘Torrent’: File exists\n"
          ],
          "name": "stdout"
        }
      ]
    },
    {
      "cell_type": "code",
      "metadata": {
        "colab": {
          "base_uri": "https://localhost:8080/"
        },
        "id": "WbR0WTNCIZS9",
        "outputId": "9d8c2cd3-9732-4272-fa8d-5b3dd4d40fcd"
      },
      "source": [
        "!add-apt-repository ppa:qbittorrent-team/qbittorrent-stable -y\n",
        "!apt install qbittorrent-nox\n",
        "!qbittorrent-nox --webui-port=5155\n"
      ],
      "execution_count": null,
      "outputs": [
        {
          "output_type": "stream",
          "text": [
            "\r0% [Working]\r            \rGet:1 http://ppa.launchpad.net/c2d4u.team/c2d4u4.0+/ubuntu bionic InRelease [15.9 kB]\n",
            "\r0% [Waiting for headers] [Connecting to security.ubuntu.com (91.189.88.152)] [C\r                                                                               \rHit:2 http://archive.ubuntu.com/ubuntu bionic InRelease\n",
            "\r0% [Connecting to security.ubuntu.com (91.189.88.152)] [Connected to cloud.r-pr\r                                                                               \rGet:3 http://archive.ubuntu.com/ubuntu bionic-updates InRelease [88.7 kB]\n",
            "\r                                                                               \rGet:4 http://security.ubuntu.com/ubuntu bionic-security InRelease [88.7 kB]\n",
            "\r                                                                               \rGet:5 https://cloud.r-project.org/bin/linux/ubuntu bionic-cran40/ InRelease [3,626 B]\n",
            "\r0% [3 InRelease 27.2 kB/88.7 kB 31%] [4 InRelease 37.3 kB/88.7 kB 42%] [Waiting\r0% [2 InRelease gpgv 242 kB] [3 InRelease 30.1 kB/88.7 kB 34%] [4 InRelease 37.\r                                                                               \rHit:6 http://ppa.launchpad.net/cran/libgit2/ubuntu bionic InRelease\n",
            "\r0% [2 InRelease gpgv 242 kB] [3 InRelease 47.5 kB/88.7 kB 54%] [4 InRelease 37.\r0% [2 InRelease gpgv 242 kB] [Waiting for headers] [4 InRelease 40.2 kB/88.7 kB\r                                                                               \rHit:7 http://ppa.launchpad.net/deadsnakes/ppa/ubuntu bionic InRelease\n",
            "Get:8 http://archive.ubuntu.com/ubuntu bionic-backports InRelease [74.6 kB]\n",
            "Hit:9 http://ppa.launchpad.net/graphics-drivers/ppa/ubuntu bionic InRelease\n",
            "Get:10 http://ppa.launchpad.net/qbittorrent-team/qbittorrent-stable/ubuntu bionic InRelease [15.9 kB]\n",
            "Ign:11 https://developer.download.nvidia.com/compute/cuda/repos/ubuntu1804/x86_64  InRelease\n",
            "Ign:12 https://developer.download.nvidia.com/compute/machine-learning/repos/ubuntu1804/x86_64  InRelease\n",
            "Get:13 https://developer.download.nvidia.com/compute/cuda/repos/ubuntu1804/x86_64  Release [697 B]\n",
            "Hit:14 https://developer.download.nvidia.com/compute/machine-learning/repos/ubuntu1804/x86_64  Release\n",
            "Get:15 https://developer.download.nvidia.com/compute/cuda/repos/ubuntu1804/x86_64  Release.gpg [836 B]\n",
            "Get:16 https://cloud.r-project.org/bin/linux/ubuntu bionic-cran40/ Packages [53.1 kB]\n",
            "Get:17 http://ppa.launchpad.net/c2d4u.team/c2d4u4.0+/ubuntu bionic/main Sources [1,757 kB]\n",
            "Get:18 http://ppa.launchpad.net/c2d4u.team/c2d4u4.0+/ubuntu bionic/main amd64 Packages [899 kB]\n",
            "Get:19 http://archive.ubuntu.com/ubuntu bionic-updates/universe amd64 Packages [2,182 kB]\n",
            "Get:20 http://archive.ubuntu.com/ubuntu bionic-updates/restricted amd64 Packages [426 kB]\n",
            "Get:21 http://archive.ubuntu.com/ubuntu bionic-updates/multiverse amd64 Packages [31.6 kB]\n",
            "Get:22 http://archive.ubuntu.com/ubuntu bionic-updates/main amd64 Packages [2,546 kB]\n",
            "Get:23 http://security.ubuntu.com/ubuntu bionic-security/main amd64 Packages [2,116 kB]\n",
            "Get:24 http://security.ubuntu.com/ubuntu bionic-security/multiverse amd64 Packages [24.7 kB]\n",
            "Get:25 http://security.ubuntu.com/ubuntu bionic-security/restricted amd64 Packages [396 kB]\n",
            "Get:26 http://security.ubuntu.com/ubuntu bionic-security/universe amd64 Packages [1,410 kB]\n",
            "Get:27 http://ppa.launchpad.net/qbittorrent-team/qbittorrent-stable/ubuntu bionic/main amd64 Packages [3,009 B]\n",
            "Ign:29 https://developer.download.nvidia.com/compute/cuda/repos/ubuntu1804/x86_64  Packages\n",
            "Get:29 https://developer.download.nvidia.com/compute/cuda/repos/ubuntu1804/x86_64  Packages [742 kB]\n",
            "Fetched 12.9 MB in 3s (4,612 kB/s)\n",
            "Reading package lists... Done\n",
            "Reading package lists... Done\n",
            "Building dependency tree       \n",
            "Reading state information... Done\n",
            "The following package was automatically installed and is no longer required:\n",
            "  libnvidia-common-460\n",
            "Use 'apt autoremove' to remove it.\n",
            "The following additional packages will be installed:\n",
            "  libtorrent-rasterbar10\n",
            "Suggested packages:\n",
            "  libtorrent-rasterbar-dbg qbittorrent-dbg\n",
            "The following NEW packages will be installed:\n",
            "  libtorrent-rasterbar10 qbittorrent-nox\n",
            "0 upgraded, 2 newly installed, 0 to remove and 45 not upgraded.\n",
            "Need to get 6,605 kB of archives.\n",
            "After this operation, 11.0 MB of additional disk space will be used.\n",
            "Get:1 http://ppa.launchpad.net/qbittorrent-team/qbittorrent-stable/ubuntu bionic/main amd64 libtorrent-rasterbar10 amd64 1.2.13+git20210323.34a979720b-1ppa1~18.04 [1,262 kB]\n",
            "Get:2 http://ppa.launchpad.net/qbittorrent-team/qbittorrent-stable/ubuntu bionic/main amd64 qbittorrent-nox amd64 1:4.3.3.99~202101191832-7248-da0b276d5~ubuntu18.04.1 [5,342 kB]\n",
            "Fetched 6,605 kB in 0s (24.8 MB/s)\n",
            "Selecting previously unselected package libtorrent-rasterbar10.\n",
            "(Reading database ... 160690 files and directories currently installed.)\n",
            "Preparing to unpack .../libtorrent-rasterbar10_1.2.13+git20210323.34a979720b-1ppa1~18.04_amd64.deb ...\n",
            "Unpacking libtorrent-rasterbar10 (1.2.13+git20210323.34a979720b-1ppa1~18.04) ...\n",
            "Selecting previously unselected package qbittorrent-nox.\n",
            "Preparing to unpack .../qbittorrent-nox_1%3a4.3.3.99~202101191832-7248-da0b276d5~ubuntu18.04.1_amd64.deb ...\n",
            "Unpacking qbittorrent-nox (1:4.3.3.99~202101191832-7248-da0b276d5~ubuntu18.04.1) ...\n",
            "Setting up libtorrent-rasterbar10 (1.2.13+git20210323.34a979720b-1ppa1~18.04) ...\n",
            "Setting up qbittorrent-nox (1:4.3.3.99~202101191832-7248-da0b276d5~ubuntu18.04.1) ...\n",
            "Processing triggers for man-db (2.8.3-2ubuntu0.1) ...\n",
            "Processing triggers for libc-bin (2.27-3ubuntu1.2) ...\n",
            "/sbin/ldconfig.real: /usr/local/lib/python3.7/dist-packages/ideep4py/lib/libmkldnn.so.0 is not a symbolic link\n",
            "\n",
            "\n",
            "*** Legal Notice ***\n",
            "qBittorrent is a file sharing program. When you run a torrent, its data will be made available to others by means of upload. Any content you share is your sole responsibility.\n",
            "\n",
            "No further notices will be issued.\n",
            "\n",
            "Press 'y' key to accept and continue...\n",
            "y\n",
            "\n",
            "******** Information ********\n",
            "To control qBittorrent, access the Web UI at http://localhost:5155\n",
            "The Web UI administrator username is: admin\n",
            "The Web UI administrator password is still the default one: adminadmin\n",
            "This is a security risk, please consider changing your password from program preferences.\n",
            "Catching signal: SIGINT\n",
            "Exiting cleanly\n",
            "^C\n"
          ],
          "name": "stdout"
        }
      ]
    },
    {
      "cell_type": "code",
      "metadata": {
        "colab": {
          "base_uri": "https://localhost:8080/"
        },
        "id": "QF7QG1ZzIeUc",
        "outputId": "fb017a42-3928-4b55-c147-2ad6e6c4dff6"
      },
      "source": [
        "TOKEN = \"\"\n",
        "\n",
        "def install_ngrok():\n",
        "    import os\n",
        "    from zipfile import ZipFile\n",
        "    from urllib.request import urlretrieve\n",
        "    \n",
        "    url = 'https://bin.equinox.io/c/4VmDzA7iaHb/ngrok-stable-linux-amd64.zip'\n",
        "    urlretrieve(url, 'ngrok-amd64.zip')\n",
        "    \n",
        "    with ZipFile('ngrok-amd64.zip', 'r') as zip_ref:\n",
        "        zip_ref.extractall('/usr/local/bin/')\n",
        "    os.chmod('/usr/local/bin/ngrok', 0o755)\n",
        "    os.unlink('ngrok-amd64.zip')\n",
        "\n",
        "install_ngrok()\n",
        "if TOKEN != \"\":\n",
        "    !ngrok authtoken $TOKEN "
      ],
      "execution_count": null,
      "outputs": [
        {
          "output_type": "stream",
          "text": [
            "Authtoken saved to configuration file: /root/.ngrok2/ngrok.yml\n"
          ],
          "name": "stdout"
        }
      ]
    },
    {
      "cell_type": "code",
      "metadata": {
        "colab": {
          "base_uri": "https://localhost:8080/"
        },
        "id": "6pNm2ZPuIp_c",
        "outputId": "bbe69b3b-3836-481a-8136-b5c8ab8bcc66"
      },
      "source": [
        "import threading\n",
        "import time\n",
        "import requests\n",
        "import json\n",
        "import subprocess\n",
        "\n",
        "def torrent(port):\n",
        "    command = subprocess.Popen(['qbittorrent-nox', f'--webui-port={port}'])\n",
        "\n",
        "def ngrok(port):\n",
        "    \n",
        "    ngrok_cmd = subprocess.Popen(['ngrok', 'http', str(port)])    \n",
        "    localhost_url = \"http://localhost:4040/api/tunnels\"\n",
        "\n",
        "    time.sleep(1)\n",
        "    tunnel_url = requests.get(localhost_url).text\n",
        "    json_data = json.loads(tunnel_url)\n",
        "\n",
        "    tunnel_url = json_data['tunnels'][0]['public_url']\n",
        "    tunnel_url = tunnel_url.replace(\"https\", \"http\")\n",
        "    print('Running at localhost: ' + str(port))\n",
        "    print(tunnel_url)\n",
        "\n",
        "if __name__ == '__main__':\n",
        "    \n",
        "    port = 5155\n",
        "\n",
        "    thread_torrent = threading.Thread(target = torrent, args=(int(port),))\n",
        "    thread_ngrok = threading.Thread(target = ngrok, args=(int(port),))\n",
        "\n",
        "    thread_torrent.start()\n",
        "    print('Torrent server started!')\n",
        "\n",
        "    time.sleep(5)\n",
        "    print('Establishing secure connection!')\n",
        "    \n",
        "    thread_ngrok.start()\n",
        "    print('Secure connection established...')\n",
        "    print('Username: admin')\n",
        "    print('password: adminadmin')\n",
        "    \n",
        "    thread_ngrok.join()\n",
        "    thread_torrent.join()\n"
      ],
      "execution_count": null,
      "outputs": [
        {
          "output_type": "stream",
          "text": [
            "Torrent server started!\n",
            "Establishing secure connection!\n",
            "Secure connection established...\n",
            "Username: admin\n",
            "password: adminadmin\n",
            "Running at localhost: 5155\n",
            "http://6bd20af54c52.ngrok.io\n"
          ],
          "name": "stdout"
        }
      ]
    }
  ]
}